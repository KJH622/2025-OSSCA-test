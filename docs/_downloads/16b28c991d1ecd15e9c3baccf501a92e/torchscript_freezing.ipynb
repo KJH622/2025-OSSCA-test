{
  "cells": [
    {
      "cell_type": "code",
      "execution_count": null,
      "metadata": {
        "collapsed": false
      },
      "outputs": [],
      "source": [
        "# Google Colab\uc5d0\uc11c \ub178\ud2b8\ubd81\uc744 \uc2e4\ud589\ud558\uc2e4 \ub54c\uc5d0\ub294 \n# https://tutorials.pytorch.kr/beginner/colab \ub97c \ucc38\uace0\ud558\uc138\uc694.\n%matplotlib inline"
      ]
    },
    {
      "cell_type": "markdown",
      "metadata": {},
      "source": [
        "TorchScript\ub85c \ubaa8\ub378 \ub3d9\uacb0\ud558\uae30\n===========================\n\n\ubc88\uc5ed : [\uae40\uc9c0\ud638](https://github.com/jiho3004/)\n\n\uc774 \ud29c\ud1a0\ub9ac\uc5bc\uc5d0\uc11c\ub294, TorchScript\ub85c *\ubaa8\ub378 \ub3d9\uacb0* \ud558\ub294 \ubb38\ubc95\uc744 \uc18c\uac1c\ud569\ub2c8\ub2e4.\n\ub3d9\uacb0\uc740 \ud30c\uc774\ud1a0\uce58 \ubaa8\ub4c8\uc758 \ub9e4\uac1c\ubcc0\uc218\uc640 \uc18d\uc131 \uac12\ub4e4\uc744 TorchScript \ub0b4\ubd80 \ud45c\ud604\uc73c\ub85c\n\uc778\ub77c\uc774\ub2dd(inlining)\ud558\ub294 \uacfc\uc815\uc785\ub2c8\ub2e4. \ub9e4\uac1c\ubcc0\uc218\uc640 \uc18d\uc131 \uac12\ub4e4\uc740 \ucd5c\uc885 \uac12\uc73c\ub85c\n\ucc98\ub9ac\ub418\uba70 \ub3d9\uacb0\ub41c \ubaa8\ub4c8\uc5d0\uc11c \uc218\uc815\ub420 \uc218 \uc5c6\uc2b5\ub2c8\ub2e4.\n\n\uae30\ubcf8 \ubb38\ubc95\n---------\n\n\ubaa8\ub378 \ub3d9\uacb0\uc740 \uc544\ub798 API\ub97c \uc0ac\uc6a9\ud558\uc5ec \ud638\ucd9c\ud560 \uc218 \uc788\uc2b5\ub2c8\ub2e4:\n\n> `torch.jit.freeze(mod : ScriptModule, names : str[]) -> ScriptModule`\n\n\uc785\ub825 \ubaa8\ub4c8\uc740 \uc2a4\ud06c\ub9bd\ud305(scripting) \ud639\uc740 \ucd94\uc801(tracing)\uc744 \uc0ac\uc6a9\ud55c \uacb0\uacfc\uc785\ub2c8\ub2e4.\n[TorchScript \uc18c\uac1c\n\ud29c\ud1a0\ub9ac\uc5bc](https://tutorials.pytorch.kr/beginner/Intro_to_TorchScript_tutorial.html)\n\uc744 \ucc38\uc870\ud558\uc138\uc694.\n\n\ub2e4\uc74c\uc73c\ub85c, \uc608\uc81c\ub97c \ud1b5\ud574 \ub3d9\uacb0\uc774 \uc5b4\ub5a4 \ubc29\uc2dd\uc73c\ub85c \ub3d9\uc791\ud558\ub294\uc9c0 \ud655\uc778\ud569\ub2c8\ub2e4:\n"
      ]
    },
    {
      "cell_type": "code",
      "execution_count": null,
      "metadata": {
        "collapsed": false
      },
      "outputs": [],
      "source": [
        "import torch, time\n\nclass Net(torch.nn.Module):\n    def __init__(self):\n        super(Net, self).__init__()\n        self.conv1 = torch.nn.Conv2d(1, 32, 3, 1)\n        self.conv2 = torch.nn.Conv2d(32, 64, 3, 1)\n        self.dropout1 = torch.nn.Dropout2d(0.25)\n        self.dropout2 = torch.nn.Dropout2d(0.5)\n        self.fc1 = torch.nn.Linear(9216, 128)\n        self.fc2 = torch.nn.Linear(128, 10)\n\n    def forward(self, x):\n        x = self.conv1(x)\n        x = torch.nn.functional.relu(x)\n        x = self.conv2(x)\n        x = torch.nn.functional.max_pool2d(x, 2)\n        x = self.dropout1(x)\n        x = torch.flatten(x, 1)\n        x = self.fc1(x)\n        x = torch.nn.functional.relu(x)\n        x = self.dropout2(x)\n        x = self.fc2(x)\n        output = torch.nn.functional.log_softmax(x, dim=1)\n        return output\n\n    @torch.jit.export\n    def version(self):\n        return 1.0\n\nnet = torch.jit.script(Net())\nfnet = torch.jit.freeze(net)\n\nprint(net.conv1.weight.size())\nprint(net.conv1.bias)\n\ntry:\n    print(fnet.conv1.bias)\n    # \uc608\uc678 \ucc98\ub9ac\uac00 \uc5c6\uc744 \uc2dc 'conv1' \uc774\ub77c\ub294 \uc774\ub984\uacfc \ud568\uaed8 \ub2e4\uc74c\uc744 \ucd9c\ub825\ud569\ub2c8\ub2e4.\n    # RuntimeError: __torch__.z.___torch_mangle_3.Net does not have a field\nexcept RuntimeError:\n    print(\"field 'conv1' is inlined. It does not exist in 'fnet'\")\n\ntry:\n    fnet.version()\n    # \uc608\uc678 \ucc98\ub9ac\uac00 \uc5c6\uc744 \uc2dc 'version' \uc774\ub77c\ub294 \uc774\ub984\uacfc \ud568\uaed8 \ub2e4\uc74c\uc744 \ucd9c\ub825\ud569\ub2c8\ub2e4.\n    # RuntimeError: __torch__.z.___torch_mangle_3.Net does not have a field\nexcept RuntimeError:\n    print(\"method 'version' is not deleted in fnet. Only 'forward' is preserved\")\n\nfnet2 = torch.jit.freeze(net, [\"version\"])\n\nprint(fnet2.version())\n\nB=1\nwarmup = 1\niter = 1000\ninput = torch.rand(B, 1,28, 28)\n\nstart = time.time()\nfor i in range(warmup):\n    net(input)\nend = time.time()\nprint(\"Scripted - Warm up time: {0:7.4f}\".format(end-start), flush=True)\n\nstart = time.time()\nfor i in range(warmup):\n    fnet(input)\nend = time.time()\nprint(\"Frozen   - Warm up time: {0:7.4f}\".format(end-start), flush=True)\n\nstart = time.time()\nfor i in range(iter):\n    input = torch.rand(B, 1,28, 28)\n    net(input)\nend = time.time()\nprint(\"Scripted - Inference: {0:5.2f}\".format(end-start), flush=True)\n\nstart = time.time()\nfor i in range(iter):\n    input = torch.rand(B, 1,28, 28)\n    fnet2(input)\nend = time.time()\nprint(\"Frozen    - Inference time: {0:5.2f}\".format(end-start), flush =True)"
      ]
    },
    {
      "cell_type": "markdown",
      "metadata": {},
      "source": [
        "\uac1c\uc778 \uba38\uc2e0\uc5d0\uc11c \uc2dc\uac04\uc744 \uce21\uc815\ud55c \uacb0\uacfc\uc785\ub2c8\ub2e4:\n\n-   Scripted - Warm up time: 0.0107\n-   Frozen - Warm up time: 0.0048\n-   Scripted - Inference: 1.35\n-   Frozen - Inference time: 1.17\n"
      ]
    },
    {
      "cell_type": "markdown",
      "metadata": {},
      "source": [
        "\uc774 \uc608\uc81c\uc5d0\uc11c, \uc6cc\ubc0d\uc5c5 \uc2dc\uac04\uc740 \ucd5c\ucd08 \ub450 \ubc88 \uc2e4\ud589\ud560 \ub54c \uce21\uc815\ud569\ub2c8\ub2e4. \ub3d9\uacb0\ub41c\n\ubaa8\ub378\uc774 \uc2a4\ud06c\ub9bd\ud2b8\ub41c \ubaa8\ub378\ubcf4\ub2e4 50% \ub354 \ube60\ub985\ub2c8\ub2e4. \ubcf4\ub2e4 \ubcf5\uc7a1\ud55c \ubaa8\ub378\uc5d0\uc11c\ub294\n\uc6cc\ubc0d\uc5c5 \uc2dc\uac04\uc774 \ub354\uc6b1 \ube68\ub77c\uc9d1\ub2c8\ub2e4. \ucd5c\ucd08 \ub450 \ubc88\uc758 \uc2e4\ud589\uc744 \ucd08\uae30\ud654\ud560 \ub54c\nTorchScript\uac00 \ud574\uc57c \ud560 \uc77c\uc758 \uc77c\ubd80\ub97c \ub3d9\uacb0\uc774 \ud558\uace0 \uc788\uae30 \ub54c\ubb38\uc5d0 \uc18d\ub3c4 \uac1c\uc120\uc774\n\uc77c\uc5b4\ub0a9\ub2c8\ub2e4.\n\n\ucd94\ub860 \uc2dc\uac04\uc740 \ubaa8\ub378\uc774 \uc6cc\ubc0d\uc5c5\ub418\uace0 \ub09c \ub4a4, \ucd94\ub860 \uc2dc \uc2e4\ud589 \uc2dc\uac04\uc744 \uce21\uc815\ud569\ub2c8\ub2e4.\n\uc2e4\ud589 \uc2dc\uac04\uc5d0 \ub9ce\uc740 \ud3b8\ucc28\uac00 \uc788\uae30\ub294 \ud558\uc9c0\ub9cc, \ub300\uac1c \ub3d9\uacb0\ub41c \ubaa8\ub378\uc774 \uc2a4\ud06c\ub9bd\ud2b8\ub41c\n\ubaa8\ub378\ubcf4\ub2e4 \uc57d 15% \ub354 \ube60\ub985\ub2c8\ub2e4. \uc2e4\ud589 \uc2dc\uac04\uc740 tensor \uc5f0\uc0b0\uc5d0 \uc758\ud574 \uc9c0\ubc30\ub418\uae30\n\ub54c\ubb38\uc5d0 \uc785\ub825\uc758 \ud06c\uae30\uac00 \ub354 \ucee4\uc9c0\uba74 \uc18d\ub3c4 \uac1c\uc120 \uc815\ub3c4\ub294 \ub354 \uc791\uc544\uc9d1\ub2c8\ub2e4.\n"
      ]
    },
    {
      "cell_type": "markdown",
      "metadata": {},
      "source": [
        "\uacb0\ub860\n====\n\n\uc774 \ud29c\ud1a0\ub9ac\uc5bc\uc5d0\uc11c\ub294 \ubaa8\ub378 \ub3d9\uacb0\uc5d0 \ub300\ud574 \ubc30\uc6e0\uc2b5\ub2c8\ub2e4. \ub3d9\uacb0\uc740 \ucd94\ub860 \uc2dc \ubaa8\ub378\n\ucd5c\uc801\ud654\ub97c \ud560 \uc218 \uc788\ub294 \uc720\uc6a9\ud55c \uae30\ubc95\uc774\uba70 TorchScript \uc6cc\ubc0d\uc5c5 \uc2dc\uac04\uc744 \ud06c\uac8c\n\uc904\uc785\ub2c8\ub2e4.\n"
      ]
    }
  ],
  "metadata": {
    "kernelspec": {
      "display_name": "Python 3",
      "language": "python",
      "name": "python3"
    },
    "language_info": {
      "codemirror_mode": {
        "name": "ipython",
        "version": 3
      },
      "file_extension": ".py",
      "mimetype": "text/x-python",
      "name": "python",
      "nbconvert_exporter": "python",
      "pygments_lexer": "ipython3",
      "version": "3.10.14"
    }
  },
  "nbformat": 4,
  "nbformat_minor": 0
}